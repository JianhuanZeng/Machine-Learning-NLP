{
 "cells": [
  {
   "cell_type": "code",
   "execution_count": 1,
   "metadata": {
    "collapsed": true
   },
   "outputs": [],
   "source": [
    "import pandas as pd\n",
    "import numpy as np\n",
    "import matplotlib.pyplot as plt\n",
    "import tools\n",
    "import warnings,sys\n",
    "if not sys.warnoptions:\n",
    "    warnings.simplefilter(\"ignore\")\n"
   ]
  },
  {
   "cell_type": "code",
   "execution_count": 2,
   "metadata": {
    "collapsed": true,
    "scrolled": true
   },
   "outputs": [],
   "source": [
    "# Load data\n",
    "load_file = '../datasets/reddit_submissions.json'\n",
    "someposts = pd.read_json(load_file , lines=True)\n",
    "someposts.index = someposts['id']\n"
   ]
  },
  {
   "cell_type": "markdown",
   "metadata": {},
   "source": [
    "# Model\n",
    "Possible models:\n",
    "+ Bag of Words/Bigrams + LR/SVM\n",
    "+ Average Embedding + LR\n",
    "+ LDA\n",
    "+ Tree Kernels\n",
    "+ @RNN: I try word-based 1-layer LSTM as baseline \n",
    "+ @CNN: I secondly try character-level CNN\n",
    "+ @RCNN: I finally will try the advanced RCNN\n",
    "\n",
    "I first try the simplest word-based LSTM, then try character-level CNN and finally try advanced word-based RCNN if possible. "
   ]
  },
  {
   "cell_type": "code",
   "execution_count": 8,
   "metadata": {},
   "outputs": [],
   "source": [
    "from tensorflow import keras\n",
    "import tensorflow as tf\n",
    "\n",
    "from keras.models import Sequential\n",
    "from keras.layers import Dense, Embedding, LSTM\n",
    "\n",
    "from keras.preprocessing.text import Tokenizer\n",
    "from keras.preprocessing.sequence import pad_sequences\n",
    "from sklearn.model_selection import train_test_split\n",
    "from keras.layers import Reshape, Conv1D, GlobalMaxPooling1D, MaxPooling1D,Flatten\n",
    "\n",
    "from sklearn.metrics import classification_report"
   ]
  },
  {
   "cell_type": "markdown",
   "metadata": {},
   "source": [
    "## 1: word-based one-layer LSTM  \n",
    "LSTM could capture the contextual feature of text. Shown in Part1_ModelTraining with avg f1-score is 0.62. This model is good to classify 3-'EatingDisorders' with 0.80 and 7-'alcoholism' with 0.81."
   ]
  },
  {
   "cell_type": "markdown",
   "metadata": {},
   "source": [
    "## 2: charactor-based one-layer CNN \n",
    "The character-level cnn is effective and unbiased, but we have to define fixed size kernel while words with different length."
   ]
  },
  {
   "cell_type": "code",
   "execution_count": 4,
   "metadata": {},
   "outputs": [
    {
     "name": "stdout",
     "output_type": "stream",
     "text": [
      "There are 236742 records after processing\n",
      "The sum of rare categories is 1142\n",
      "591 unique words\n",
      "There are 189393,23674,23675 records for train, validation, and test sets\n"
     ]
    }
   ],
   "source": [
    "maxlen = 2000\n",
    "vocabulary_size = 40\n",
    "\n",
    "# Preprocesses the raw data as required\n",
    "subreddit_mappings, someposts = tools.record_process(someposts, features = ['title', 'selftext'])\n",
    "\n",
    "# Fit the tokenizer on the training data\n",
    "t = Tokenizer(num_words=vocabulary_size, char_level=True)\n",
    "t.fit_on_texts(someposts[['title','selftext']].apply(lambda x: 'End. '.join(x), axis=1).values)\n",
    "print('%s unique words' %len(t.word_index))\n",
    "\n",
    "# partitions the model-ready data into train, validation, and test sets.\n",
    "X_train = t.texts_to_sequences(someposts[['title','selftext']].apply(lambda x: 'End. '.join(x), axis=1).values)\n",
    "X_train = pad_sequences(X_train, maxlen=maxlen, padding='post')\n",
    "X_train, X_val, y_train, y_val = train_test_split(X_train,someposts['target'].values, test_size=0.2)\n",
    "X_val, X_test, y_val, y_test = train_test_split(X_val,y_val, test_size=0.5)\n",
    "print('There are {},{},{} records for train, validation, and test sets'.format(len(X_train), len(X_val), len(X_test)))"
   ]
  },
  {
   "cell_type": "code",
   "execution_count": 12,
   "metadata": {},
   "outputs": [
    {
     "name": "stdout",
     "output_type": "stream",
     "text": [
      "_________________________________________________________________\n",
      "Layer (type)                 Output Shape              Param #   \n",
      "=================================================================\n",
      "reshape_5 (Reshape)          (None, 2000, 1)           0         \n",
      "_________________________________________________________________\n",
      "conv1d_6 (Conv1D)            (None, 1986, 150)         2400      \n",
      "_________________________________________________________________\n",
      "max_pooling1d_5 (MaxPooling1 (None, 396, 150)          0         \n",
      "_________________________________________________________________\n",
      "conv1d_7 (Conv1D)            (None, 392, 300)          225300    \n",
      "_________________________________________________________________\n",
      "global_max_pooling1d_2 (Glob (None, 300)               0         \n",
      "_________________________________________________________________\n",
      "dense_3 (Dense)              (None, 17)                5117      \n",
      "=================================================================\n",
      "Total params: 232,817\n",
      "Trainable params: 232,817\n",
      "Non-trainable params: 0\n",
      "_________________________________________________________________\n"
     ]
    }
   ],
   "source": [
    "# training\n",
    "n_classes = len(subreddit_mappings)\n",
    "\n",
    "model = Sequential()\n",
    "model.add(Reshape((maxlen, 1), input_shape=(maxlen,)))\n",
    "model.add(Conv1D(150, 15, activation='relu'))\n",
    "model.add(MaxPooling1D(pool_size=10, strides=5))\n",
    "model.add(Conv1D(300, 5, activation='relu'))\n",
    "model.add(GlobalMaxPooling1D())\n",
    "model.add(Dense(n_classes, activation='softmax'))\n",
    "model.summary()\n",
    "\n",
    "# complie\n",
    "model.compile('adam', 'sparse_categorical_crossentropy', metrics=['accuracy'])"
   ]
  },
  {
   "cell_type": "code",
   "execution_count": 13,
   "metadata": {},
   "outputs": [
    {
     "name": "stdout",
     "output_type": "stream",
     "text": [
      "Train on 189393 samples, validate on 23674 samples\n",
      "Epoch 1/5\n",
      "189393/189393 [==============================] - 31777s 168ms/step - loss: 1.9517 - acc: 0.3939 - val_loss: 1.8387 - val_acc: 0.4197\n",
      "Epoch 2/5\n",
      "189393/189393 [==============================] - 3197s 17ms/step - loss: 1.7310 - acc: 0.4452 - val_loss: 1.7008 - val_acc: 0.4614\n",
      "Epoch 3/5\n",
      "189393/189393 [==============================] - 4799s 25ms/step - loss: 1.6196 - acc: 0.4803 - val_loss: 1.6238 - val_acc: 0.4831\n",
      "Epoch 4/5\n",
      "189393/189393 [==============================] - 3098s 16ms/step - loss: 1.5552 - acc: 0.4984 - val_loss: 1.6010 - val_acc: 0.4903\n",
      "Epoch 5/5\n",
      "189393/189393 [==============================] - 3012s 16ms/step - loss: 1.5152 - acc: 0.5102 - val_loss: 1.5497 - val_acc: 0.4997\n"
     ]
    },
    {
     "data": {
      "image/png": "[encoded data removed]",
      "text/plain": [
       "<matplotlib.figure.Figure at 0x1a12a8e550>"
      ]
     },
     "metadata": {},
     "output_type": "display_data"
    }
   ],
   "source": [
    "# prepare for training\n",
    "early_stopping = keras.callbacks.EarlyStopping(monitor='acc', \n",
    "                                                  min_delta=0.0001,\n",
    "                                                  patience=1, \n",
    "                                                  verbose=1)\n",
    "\n",
    "checkpoint = keras.callbacks.ModelCheckpoint('ModelTraining/lstm_1st.hdf5', \n",
    "                                             verbose=1, \n",
    "                                             save_best_only=True) \n",
    "# training\n",
    "history = model.fit(X_train, y_train, \n",
    "                    batch_size = 64,\n",
    "                    epochs=5, \n",
    "                    validation_data=(X_val, y_val),\n",
    "                    callbacks=[early_stopping])\n",
    "\n",
    "# plot the training process\n",
    "acc = history.history['acc']\n",
    "val_acc = history.history['val_acc']\n",
    "loss = history.history['loss']\n",
    "val_loss = history.history['val_loss']\n",
    "\n",
    "epochs = range(len(acc))\n",
    "\n",
    "plt.plot(epochs, loss, 'bo', label='Training loss')\n",
    "plt.plot(epochs, val_loss, 'b', label='Validation loss')\n",
    "plt.title('Training and validation loss(fine-tuning)')\n",
    "plt.legend()\n",
    "\n",
    "plt.show()"
   ]
  },
  {
   "cell_type": "code",
   "execution_count": null,
   "metadata": {
    "collapsed": true
   },
   "outputs": [],
   "source": [
    "# Evaluation\n",
    "results = model.predict(X_test)\n",
    "predictions = results.argmax(axis = 1)\n",
    "print(classification_report(y_test, predictions))\n",
    "\n",
    "# save\n",
    "#Save partly trained model\n",
    "model.save('ModelTraining/partly_trained_cnn_0613.h5')"
   ]
  },
  {
   "cell_type": "markdown",
   "metadata": {},
   "source": [
    "## 3: recurrent convolutional neural network\n",
    "According to paper, RecurrentNN is a biased model, where later words are more dominant than earlier words. The Convolutional Neural Network (CNN) is unbiased to NLP tasks, which can fairly determine discriminative phrases in a text with a max-pooling layer, but it is difficult to determine the window size. Hence, RCNN for text classification that learn more contextual information than conventional window-based neural networks and represent the semantic of texts more precisely for text classification.\n",
    "\n",
    "'First, we apply a bi-directional recurrent structure. Second, we employ a max-pooling layer that automatically judges which features play key roles in text classification, to capture the key component in the texts. '\n",
    "\n",
    "For the '2015-fancy' model-RCNN. Under time limitation, I plan to use other codes as reference and fit it to our model.\n",
    "+ The paper: Recurrent Convolutional Neural Network for Text Classification (AAAI 2015) https://www.aaai.org/ocs/index.php/AAAI/AAAI15/paper/view/9745\n",
    "+ The reference code: \n",
    "https://github.com/roomylee/rcnn-text-classification; \n",
    "https://github.com/sklan/rcnn-text-classification"
   ]
  },
  {
   "cell_type": "code",
   "execution_count": null,
   "metadata": {
    "collapsed": true
   },
   "outputs": [],
   "source": []
  }
 ],
 "metadata": {
  "kernelspec": {
   "display_name": "Python 3",
   "language": "python",
   "name": "python3"
  },
  "language_info": {
   "codemirror_mode": {
    "name": "ipython",
    "version": 3
   },
   "file_extension": ".py",
   "mimetype": "text/x-python",
   "name": "python",
   "nbconvert_exporter": "python",
   "pygments_lexer": "ipython3",
   "version": "3.6.3"
  }
 },
 "nbformat": 4,
 "nbformat_minor": 2
}
