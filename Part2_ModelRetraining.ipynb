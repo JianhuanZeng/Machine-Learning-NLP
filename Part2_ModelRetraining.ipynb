{
 "cells": [
  {
   "cell_type": "code",
   "execution_count": 1,
   "metadata": {},
   "outputs": [
    {
     "name": "stderr",
     "output_type": "stream",
     "text": [
      "/Users/cengjianhuan/anaconda3/lib/python3.6/site-packages/h5py/__init__.py:34: FutureWarning: Conversion of the second argument of issubdtype from `float` to `np.floating` is deprecated. In future, it will be treated as `np.float64 == np.dtype(float).type`.\n",
      "  from ._conv import register_converters as _register_converters\n",
      "Using TensorFlow backend.\n"
     ]
    }
   ],
   "source": [
    "import tensorflow as tf\n",
    "from keras.models import load_model\n",
    "from tensorflow import keras\n",
    "from sklearn.metrics import classification_report\n",
    "\n",
    "import matplotlib.pyplot as plt\n",
    "import pandas as pd\n",
    "import numpy as np\n",
    "import tools\n",
    "\n",
    "import warnings,sys\n",
    "if not sys.warnoptions:\n",
    "    warnings.simplefilter(\"ignore\")"
   ]
  },
  {
   "cell_type": "code",
   "execution_count": 3,
   "metadata": {
    "collapsed": true
   },
   "outputs": [],
   "source": [
    "# Load data\n",
    "load_file = '../datasets/reddit_submissions.json'\n",
    "someposts = pd.read_json(load_file , lines=True)\n",
    "someposts.index = someposts['id']"
   ]
  },
  {
   "cell_type": "markdown",
   "metadata": {},
   "source": [
    "# Iterative model development\n",
    "\n",
    "If don't change the model, I may try:\n",
    "\n",
    "Hyperparamters Tuning:\n",
    "+ initial learning rate\n",
    "+ vocabulary_size: 5000, 10000 for the total stemming 82477 words\n",
    "+ embedding dimensions: 16, 32, 64, 128, 256 with respect to vocabulary size\n",
    "\n",
    "Text Processing: \n",
    "+ do stemming or not, \n",
    "+ with stop word/not\n",
    "+ make additional features, like:\n",
    "    + subreddit_type, indicating will the client want to show/express himself\n",
    "    + local datetime from created_utc, will the client talk in the morning/evening effect. \n",
    "    \n",
    "\n",
    "The training is slow, I don't have time to fully train to evaluate and pick features, so I /**assume**/ the word-level LSTM is the best one and retrain the model. The potential features to use are subreddit_type and local datetime. Since the additional feature are not text, but /**categorical features**/, we can have /** two types of inputs **/ with functional keras API."
   ]
  },
  {
   "cell_type": "code",
   "execution_count": 4,
   "metadata": {},
   "outputs": [
    {
     "name": "stdout",
     "output_type": "stream",
     "text": [
      "There are 236742 records after processing\n",
      "The sum of rare categories is 1142\n",
      "Found 120579 unique words tokens.\n",
      "Using vocabulary size 1000.\n",
      "The least frequent word in our vocabulary is 'pressur' and appeared 4534 times.\n",
      "\n",
      "Example sentence: Coping with panic/anxiety attacks. You tips?EndFollowing on from the Onion article, and some suggestions that a discussion would be good, can anyone share their tips for dealing with this?\n",
      "\n",
      "Example sentence after processing: ['cope', 'with', 'panic', 'anxieti', 'attack', 'you', 'tip', 'UNKNOWN_TOKEN', 'on', 'from', 'the', 'UNKNOWN_TOKEN', 'UNKNOWN_TOKEN', 'and', 'some', 'suggest', 'that', 'a', 'discuss', 'would', 'be', 'good', 'can', 'anyon', 'share', 'their', 'tip', 'for', 'deal', 'with', 'thi']\n",
      "\n",
      "Example input sentence: [563, 19, 567, 182, 507, 29, 978, 999, 30, 70, 3, 999, 999, 2, 86, 658, 10, 4, 927, 72, 20, 116, 28, 106, 438, 197, 978, 15, 265, 19, 18]\n",
      "There are 236742 records after processing\n",
      "There are 189393,23675,23674 records for train, validation, and test sets\n",
      "(189393, 300)\n"
     ]
    }
   ],
   "source": [
    "# process text to integer\n",
    "vocabulary_size = 1000\n",
    "subreddit_mappings, someposts = tools.record_process(someposts, features = ['title', 'selftext','subreddit_type','created_utc'])\n",
    "index_to_word, X_train  = tools.textprocess(someposts[['title','selftext']].apply(lambda x: 'End. '.join(x), axis=1).values, vocabulary_size)\n",
    "\n",
    "# partitions the model-ready data into train, validation, and test sets.\n",
    "print('There are {} records after processing'.format(len(someposts)))\n",
    "X_train, X_test, X_val, y_train, y_test, y_val = tools.partition_dataset(someposts, X_train)\n",
    "print('There are {},{},{} records for train, validation, and test sets'.format(len(X_train), len(X_val), len(X_test)))\n",
    "\n",
    "# Cut texts after this number of words \n",
    "max_len = 300\n",
    "X_train = keras.preprocessing.sequence.pad_sequences(X_train, maxlen=max_len)\n",
    "X_val = keras.preprocessing.sequence.pad_sequences(X_val, maxlen=max_len)\n",
    "X_test = keras.preprocessing.sequence.pad_sequences(X_test, maxlen=max_len)\n",
    "print(X_train.shape)"
   ]
  },
  {
   "cell_type": "code",
   "execution_count": 2,
   "metadata": {},
   "outputs": [
    {
     "name": "stdout",
     "output_type": "stream",
     "text": [
      "_________________________________________________________________\n",
      "Layer (type)                 Output Shape              Param #   \n",
      "=================================================================\n",
      "embedding_1 (Embedding)      (None, 300, 16)           80000     \n",
      "_________________________________________________________________\n",
      "lstm_1 (LSTM)                (None, 128)               74240     \n",
      "_________________________________________________________________\n",
      "dense_1 (Dense)              (None, 17)                2193      \n",
      "=================================================================\n",
      "Total params: 156,433\n",
      "Trainable params: 156,433\n",
      "Non-trainable params: 0\n",
      "_________________________________________________________________\n"
     ]
    }
   ],
   "source": [
    "# Restore the model\n",
    "model = load_model('ModelTraining/partly_trained_lstm_0613.h5')\n",
    "model.summary()"
   ]
  },
  {
   "cell_type": "code",
   "execution_count": 7,
   "metadata": {},
   "outputs": [
    {
     "data": {
      "image/png": "[encoded data removed]",
      "text/plain": [
       "<matplotlib.figure.Figure at 0x1c71f82320>"
      ]
     },
     "metadata": {},
     "output_type": "display_data"
    }
   ],
   "source": [
    "# prepare for training\n",
    "early_stopping = keras.callbacks.EarlyStopping(monitor='acc', \n",
    "                                                  min_delta=0.0001,\n",
    "                                                  patience=1, \n",
    "                                                  verbose=1)\n",
    "\n",
    "checkpoint = keras.callbacks.ModelCheckpoint('ModelTraining/lstm_1st.hdf5', \n",
    "                                             verbose=1, \n",
    "                                             save_best_only=True) \n",
    "\n",
    "# training\n",
    "history = model.fit(X_train, y_train, \n",
    "                    batch_size = 64,\n",
    "                    epochs=8, \n",
    "                    validation_data=(X_val, y_val),\n",
    "                    initial_epoch = 5,\n",
    "                    callbacks=[checkpoint, early_stopping])\n",
    "\n",
    "\n",
    "# plot the training process\n",
    "acc = history.history['acc']\n",
    "val_acc = history.history['val_acc']\n",
    "loss = history.history['loss']\n",
    "val_loss = history.history['val_loss']\n",
    "\n",
    "epochs = range(len(acc))\n",
    "\n",
    "plt.plot(epochs, loss, 'bo', label='Training loss')\n",
    "plt.plot(epochs, val_loss, 'b', label='Validation loss')\n",
    "plt.title('Training and validation loss(fine-tuning)')\n",
    "plt.legend()\n",
    "\n",
    "plt.show()"
   ]
  },
  {
   "cell_type": "code",
   "execution_count": 9,
   "metadata": {},
   "outputs": [
    {
     "name": "stdout",
     "output_type": "stream",
     "text": [
      "             precision    recall  f1-score   support\n",
      "\n",
      "          0       0.65      0.34      0.45       109\n",
      "          1       0.64      0.54      0.58      1647\n",
      "          2       0.64      0.53      0.58      1357\n",
      "          3       0.55      0.60      0.57       129\n",
      "          4       0.46      0.12      0.19       680\n",
      "          5       0.48      0.48      0.48       213\n",
      "          6       0.62      0.72      0.67      5562\n",
      "          7       0.74      0.80      0.77       456\n",
      "          8       0.61      0.72      0.66      9161\n",
      "          9       0.65      0.24      0.35       267\n",
      "         10       0.00      0.00      0.00       197\n",
      "         11       0.38      0.10      0.16       749\n",
      "         12       0.29      0.10      0.14       104\n",
      "         13       0.73      0.52      0.61       462\n",
      "         14       0.64      0.59      0.62       320\n",
      "         15       0.65      0.44      0.52       991\n",
      "         16       0.63      0.63      0.63      1270\n",
      "\n",
      "avg / total       0.61      0.62      0.60     23674\n",
      "\n"
     ]
    }
   ],
   "source": [
    "# Evaluation\n",
    "results = model.predict(X_test)\n",
    "predictions = results.argmax(axis = 1)\n",
    "print(classification_report(y_test, predictions))\n",
    "\n",
    "#Save partly trained model\n",
    "model.save('ModelTraining/partly_trained_lstm_0613.h5')"
   ]
  },
  {
   "cell_type": "markdown",
   "metadata": {},
   "source": [
    "# Discussion\n",
    "+ Finally, provide a short discussion comparing the results you found in parts 1 and 2: both parts 1 and 2 are underfitting. We first should run more epochs to train. \n",
    "+ The limitations in my methodology is that the model is a /**biased model**/, where later words are more dominant than earlier words. \n",
    "+ Promising directions that you think may improve model performance: Currently, my model is /**underfitting**/, I will try to those to make more fit \n",
    "    + firstly train enough epochs\n",
    "    + secondly hyperparamters tuning: more units or more layers\n",
    "    + may try text processing to make a good dataset(shape the dataset) instead of simply large dataset.\n",
    "    + tried an advanced RCNN model"
   ]
  }
 ],
 "metadata": {
  "kernelspec": {
   "display_name": "Python 3",
   "language": "python",
   "name": "python3"
  },
  "language_info": {
   "codemirror_mode": {
    "name": "ipython",
    "version": 3
   },
   "file_extension": ".py",
   "mimetype": "text/x-python",
   "name": "python",
   "nbconvert_exporter": "python",
   "pygments_lexer": "ipython3",
   "version": "3.6.3"
  }
 },
 "nbformat": 4,
 "nbformat_minor": 2
}
